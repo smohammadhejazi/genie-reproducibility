{
 "cells": [
  {
   "cell_type": "code",
   "execution_count": null,
   "id": "26dd53b8-a44d-4e61-9aec-499edbdd7aa7",
   "metadata": {},
   "outputs": [],
   "source": [
    "import torch\n",
    "import torch.nn as nn\n",
    "import torch.optim as optim\n",
    "from torchvision import datasets, transforms\n",
    "from torchvision.models import resnet18\n",
    "from tqdm import tqdm"
   ]
  },
  {
   "cell_type": "code",
   "execution_count": null,
   "id": "506e78bc-671e-4edc-99e1-0bb06046c7b4",
   "metadata": {},
   "outputs": [],
   "source": [
    "def reconstruct_block(block, quantizer, data, epochs=100, lr=1e-3):\n",
    "    block.eval()\n",
    "    \n",
    "    with torch.no_grad():\n",
    "        dum_output = block(data[0:1])\n",
    "    \n",
    "    optimizer = optim.Adam([quantizer.s, quantizer.V], lr=lr)\n",
    "    criterion = nn.MSELoss()\n",
    "    \n",
    "    loss_history = []\n",
    "    \n",
    "    for epoch in tqdm(range(epochs), desc=\"Reconstructing block\"):\n",
    "        epoch_loss = 0.0\n",
    "        num_batches = 0\n",
    "        \n",
    "        for batch in data.split(32):\n",
    "            with torch.no_grad():\n",
    "                output_fp32 = block(batch)\n",
    "            output_quant = block(quantizer(batch))\n",
    "            loss = criterion(output_fp32, output_quant)\n",
    "            \n",
    "            optimizer.zero_grad()\n",
    "            loss.backward()\n",
    "            optimizer.step()\n",
    "            \n",
    "            epoch_loss += loss.item()\n",
    "            num_batches += 1\n",
    "        \n",
    "        avg_loss = epoch_loss / num_batches\n",
    "        loss_history.append(avg_loss)\n",
    "        \n",
    "        if (epoch + 1) % 20 == 0:\n",
    "            print(f\"\\nEpoch [{epoch + 1}/{epochs}], Loss: {avg_loss:.6f}\")\n",
    "            print(f\"Quantizer scale (s): {quantizer.s.item():.4f}\")\n",
    "            if hasattr(quantizer, 'V'):\n",
    "                print(f\"Quantizer offset (V) mean: {quantizer.V.mean().item():.4f}\")\n",
    "    \n",
    "    import matplotlib.pyplot as plt\n",
    "    plt.figure(figsize=(10, 5))\n",
    "    plt.plot(loss_history)\n",
    "    plt.title(\"Training Loss History\")\n",
    "    plt.xlabel(\"Epoch\")\n",
    "    plt.ylabel(\"MSE Loss\")\n",
    "    plt.grid(True)\n",
    "    plt.show()\n",
    "    \n",
    "    return loss_history"
   ]
  },
  {
   "cell_type": "code",
   "execution_count": null,
   "id": "c756febd-5bd6-455d-b584-8e580577150e",
   "metadata": {},
   "outputs": [],
   "source": [
    "class GenieQuantizer(nn.Module):\n",
    "    def __init__(self, bitwidth=4):\n",
    "        super().__init__()\n",
    "        self.s = nn.Parameter(torch.tensor(1.0)) \n",
    "        self.V = nn.Parameter(torch.zeros(1))     \n",
    "        self.bitwidth = bitwidth\n",
    "        self.is_initialized = False\n",
    "\n",
    "    def forward(self, x):\n",
    "        return self.quantize(x)\n",
    "\n",
    "    def quantize(self, x):\n",
    "        if not self.is_initialized or self.V.shape != x.shape:\n",
    "            self.V = nn.Parameter(torch.zeros_like(x))\n",
    "            self.is_initialized = True\n",
    "            \n",
    "        B = torch.floor(x / self.s.detach())  #  Eq. 9\n",
    "        return self.s * (B + torch.sigmoid(self.V))  # Eq. 10"
   ]
  },
  {
   "cell_type": "code",
   "execution_count": null,
   "id": "b56f0e0a-f99d-459e-b98a-a978384bcc4f",
   "metadata": {},
   "outputs": [],
   "source": [
    "def get_blocks(model):\n",
    "    blocks = []\n",
    "    # For ResNet\n",
    "    blocks.append(nn.Sequential(model.conv1, model.bn1, model.relu))\n",
    "    blocks.append(model.layer1)\n",
    "    blocks.append(model.layer2)\n",
    "    blocks.append(model.layer3)\n",
    "    blocks.append(model.layer4)\n",
    "    blocks.append(nn.Sequential(\n",
    "    model.avgpool,\n",
    "    nn.Flatten(start_dim=1), \n",
    "    model.fc\n",
    "))\n",
    "    return blocks"
   ]
  },
  {
   "cell_type": "code",
   "execution_count": null,
   "id": "a832aaf2-fd15-45a2-984a-1636d9497b9e",
   "metadata": {},
   "outputs": [],
   "source": [
    "def adaround(weights, quantizer, synthetic_data):\n",
    "    for data in synthetic_data:\n",
    "        loss = mse_loss(quantizer(weights), weights)\n",
    "        loss.backward()\n",
    "        quantizer.V.step()  # Only update V, not B"
   ]
  },
  {
   "cell_type": "code",
   "execution_count": null,
   "id": "b4146d30-e00b-4378-8509-dc8da2aa87d1",
   "metadata": {},
   "outputs": [],
   "source": [
    " #run when you get synthetic data from Genie D\n",
    "synthetic_data = torch.load('dataset_checkpoint_final.pt', map_location=torch.device('cpu'))\n",
    "synthetic_data = synthetic_data['dataset']"
   ]
  },
  {
   "cell_type": "code",
   "execution_count": null,
   "id": "aac2c9ad-d5b3-48dd-9ae4-d1560e30ec30",
   "metadata": {},
   "outputs": [],
   "source": [
    "synthetic_data = torch.tensor(synthetic_data)\n",
    "print(synthetic_data.shape)"
   ]
  },
  {
   "cell_type": "code",
   "execution_count": null,
   "id": "aa10f802-1d96-47af-8fc2-8c5cdccd2b25",
   "metadata": {},
   "outputs": [],
   "source": [
    "model = resnet18(pretrained=True).eval()\n",
    "blocks = get_blocks(model) \n",
    "\n",
    "for block in blocks:\n",
    "    quantizer = GenieQuantizer(bitwidth=4)\n",
    "    reconstruct_block_with_adaround(block, quantizer, synthetic_data)\n",
    "    with torch.no_grad():\n",
    "        synthetic_data = block(synthetic_data)"
   ]
  },
  {
   "cell_type": "code",
   "execution_count": null,
   "id": "0cb512fa-4046-4210-b286-01361a2f1e11",
   "metadata": {},
   "outputs": [],
   "source": [
    "def apply_quantization(block, quantizer):\n",
    "    for name, param in block.named_parameters():\n",
    "        if \"weight\" in name:\n",
    "            param.data = quantizer.quantize(param.data)"
   ]
  },
  {
   "cell_type": "code",
   "execution_count": null,
   "id": "dedcc729-ebc1-477d-bc53-241240184558",
   "metadata": {},
   "outputs": [],
   "source": [
    "apply_quantization(block, quantizer)"
   ]
  },
  {
   "cell_type": "code",
   "execution_count": null,
   "id": "8e0ed728-18ff-425a-badc-9d6f63b5b773",
   "metadata": {},
   "outputs": [],
   "source": [
    "torch.save(model.state_dict(), \"quantized_resnet18_60epochs.pth\")\n",
    "torch.save(model, \"quantized_resnet18_full_60epochs.pth\")"
   ]
  }
 ],
 "metadata": {
  "kernelspec": {
   "display_name": "Python 3 (ipykernel)",
   "language": "python",
   "name": "python3"
  },
  "language_info": {
   "codemirror_mode": {
    "name": "ipython",
    "version": 3
   },
   "file_extension": ".py",
   "mimetype": "text/x-python",
   "name": "python",
   "nbconvert_exporter": "python",
   "pygments_lexer": "ipython3",
   "version": "3.11.11"
  }
 },
 "nbformat": 4,
 "nbformat_minor": 5
}
